{
 "cells": [
  {
   "cell_type": "code",
   "execution_count": null,
   "metadata": {},
   "outputs": [],
   "source": []
  },
  {
   "cell_type": "code",
   "execution_count": 77,
   "metadata": {},
   "outputs": [],
   "source": [
    "import pandas as pd\n",
    "import numpy as np\n",
    "import seaborn as sns\n",
    "import matplotlib as mtb\n",
    "from matplotlib import pyplot as plt\n",
    "from sklearn.cluster import KMeans\n"
   ]
  },
  {
   "cell_type": "markdown",
   "metadata": {},
   "source": [
    "## Loading Data"
   ]
  },
  {
   "cell_type": "code",
   "execution_count": 145,
   "metadata": {},
   "outputs": [
    {
     "data": {
      "text/html": [
       "<div>\n",
       "<style scoped>\n",
       "    .dataframe tbody tr th:only-of-type {\n",
       "        vertical-align: middle;\n",
       "    }\n",
       "\n",
       "    .dataframe tbody tr th {\n",
       "        vertical-align: top;\n",
       "    }\n",
       "\n",
       "    .dataframe thead th {\n",
       "        text-align: right;\n",
       "    }\n",
       "</style>\n",
       "<table border=\"1\" class=\"dataframe\">\n",
       "  <thead>\n",
       "    <tr style=\"text-align: right;\">\n",
       "      <th></th>\n",
       "      <th>0</th>\n",
       "      <th>1</th>\n",
       "      <th>2</th>\n",
       "      <th>3</th>\n",
       "      <th>4</th>\n",
       "      <th>5</th>\n",
       "      <th>6</th>\n",
       "      <th>7</th>\n",
       "      <th>8</th>\n",
       "      <th>9</th>\n",
       "      <th>...</th>\n",
       "      <th>19</th>\n",
       "      <th>20</th>\n",
       "      <th>21</th>\n",
       "      <th>22</th>\n",
       "      <th>23</th>\n",
       "      <th>24</th>\n",
       "      <th>25</th>\n",
       "      <th>26</th>\n",
       "      <th>27</th>\n",
       "      <th>28</th>\n",
       "    </tr>\n",
       "  </thead>\n",
       "  <tbody>\n",
       "    <tr>\n",
       "      <th>0</th>\n",
       "      <td>ajayeb</td>\n",
       "      <td>64558</td>\n",
       "      <td>64556</td>\n",
       "      <td>64543</td>\n",
       "      <td>64543</td>\n",
       "      <td>64541</td>\n",
       "      <td>64543</td>\n",
       "      <td>64543</td>\n",
       "      <td>64541</td>\n",
       "      <td>64541</td>\n",
       "      <td>...</td>\n",
       "      <td>64541</td>\n",
       "      <td>64541</td>\n",
       "      <td>64541</td>\n",
       "      <td>64541</td>\n",
       "      <td>64541</td>\n",
       "      <td>64541</td>\n",
       "      <td>64528</td>\n",
       "      <td>64528</td>\n",
       "      <td>64528</td>\n",
       "      <td>64528</td>\n",
       "    </tr>\n",
       "    <tr>\n",
       "      <th>1</th>\n",
       "      <td>ajmal</td>\n",
       "      <td>60502</td>\n",
       "      <td>60489</td>\n",
       "      <td>61485</td>\n",
       "      <td>60487</td>\n",
       "      <td>61485</td>\n",
       "      <td>61513</td>\n",
       "      <td>60515</td>\n",
       "      <td>60500</td>\n",
       "      <td>60500</td>\n",
       "      <td>...</td>\n",
       "      <td>60472</td>\n",
       "      <td>60472</td>\n",
       "      <td>60461</td>\n",
       "      <td>61470</td>\n",
       "      <td>60487</td>\n",
       "      <td>60487</td>\n",
       "      <td>61485</td>\n",
       "      <td>60487</td>\n",
       "      <td>60472</td>\n",
       "      <td>60472</td>\n",
       "    </tr>\n",
       "  </tbody>\n",
       "</table>\n",
       "<p>2 rows × 29 columns</p>\n",
       "</div>"
      ],
      "text/plain": [
       "       0      1      2      3      4      5      6      7      8      9   ...  \\\n",
       "0  ajayeb  64558  64556  64543  64543  64541  64543  64543  64541  64541  ...   \n",
       "1   ajmal  60502  60489  61485  60487  61485  61513  60515  60500  60500  ...   \n",
       "\n",
       "      19     20     21     22     23     24     25     26     27     28  \n",
       "0  64541  64541  64541  64541  64541  64541  64528  64528  64528  64528  \n",
       "1  60472  60472  60461  61470  60487  60487  61485  60487  60472  60472  \n",
       "\n",
       "[2 rows x 29 columns]"
      ]
     },
     "execution_count": 145,
     "metadata": {},
     "output_type": "execute_result"
    }
   ],
   "source": [
    "df = pd.read_excel(\"perfume_data.xlsx\",sheet_name=\"Sayfa1\",header=None)\n",
    "# df=df.set_index(0).T.reset_index(drop=True)\n",
    "df.head(2)\n"
   ]
  },
  {
   "cell_type": "code",
   "execution_count": 146,
   "metadata": {},
   "outputs": [
    {
     "data": {
      "text/html": [
       "<div>\n",
       "<style scoped>\n",
       "    .dataframe tbody tr th:only-of-type {\n",
       "        vertical-align: middle;\n",
       "    }\n",
       "\n",
       "    .dataframe tbody tr th {\n",
       "        vertical-align: top;\n",
       "    }\n",
       "\n",
       "    .dataframe thead th {\n",
       "        text-align: right;\n",
       "    }\n",
       "</style>\n",
       "<table border=\"1\" class=\"dataframe\">\n",
       "  <thead>\n",
       "    <tr style=\"text-align: right;\">\n",
       "      <th></th>\n",
       "      <th>Value</th>\n",
       "    </tr>\n",
       "  </thead>\n",
       "  <tbody>\n",
       "    <tr>\n",
       "      <th>0</th>\n",
       "      <td>64558</td>\n",
       "    </tr>\n",
       "    <tr>\n",
       "      <th>1</th>\n",
       "      <td>64556</td>\n",
       "    </tr>\n",
       "  </tbody>\n",
       "</table>\n",
       "</div>"
      ],
      "text/plain": [
       "   Value\n",
       "0  64558\n",
       "1  64556"
      ]
     },
     "execution_count": 146,
     "metadata": {},
     "output_type": "execute_result"
    }
   ],
   "source": [
    "x_df = df[df.columns[1:]]\n",
    "temp = x_df.to_numpy()\n",
    "\n",
    "data = []\n",
    "for i in range(len(temp)):\n",
    "    for j in range(28):\n",
    "        data.append(temp[i][j])\n",
    "\n",
    "data_frame = pd.DataFrame(data,columns=[\"Value\"])\n",
    "\n",
    "data_frame.head(2)"
   ]
  },
  {
   "cell_type": "markdown",
   "metadata": {},
   "source": [
    "## Plotting Perfume Scores\n",
    "In above block, the whole data (intefer perfume scores of every perfume) is converted into an array. Now, this is just a general data. We don't know about the clusters it had before. Now, we'll make 20 clusters with the KMeans Clustering\n",
    "\n",
    "This is a 1D data. We can plot it on a line. Instead, a fix y-value is used for each score (x-value)"
   ]
  },
  {
   "cell_type": "code",
   "execution_count": 147,
   "metadata": {},
   "outputs": [
    {
     "data": {
      "text/plain": [
       "<matplotlib.collections.PathCollection at 0x7f3d455e4580>"
      ]
     },
     "execution_count": 147,
     "metadata": {},
     "output_type": "execute_result"
    },
    {
     "data": {
      "image/png": "[encoded data removed]",
      "text/plain": [
       "<Figure size 1440x72 with 1 Axes>"
      ]
     },
     "metadata": {
      "needs_background": "light"
     },
     "output_type": "display_data"
    }
   ],
   "source": [
    "plt.figure(figsize=(20,1))\n",
    "plt.scatter(data_frame['Value'],np.ones(len(data_frame)))"
   ]
  },
  {
   "cell_type": "markdown",
   "metadata": {},
   "source": [
    "## KMeans Clustering"
   ]
  },
  {
   "cell_type": "code",
   "execution_count": 148,
   "metadata": {},
   "outputs": [
    {
     "data": {
      "text/plain": [
       "KMeans(n_clusters=20, random_state=0)"
      ]
     },
     "execution_count": 148,
     "metadata": {},
     "output_type": "execute_result"
    }
   ],
   "source": [
    "model = KMeans(n_clusters=20,random_state=0)\n",
    "model"
   ]
  },
  {
   "cell_type": "code",
   "execution_count": 149,
   "metadata": {},
   "outputs": [],
   "source": [
    "model.fit_predict(data_frame);"
   ]
  },
  {
   "cell_type": "code",
   "execution_count": 150,
   "metadata": {},
   "outputs": [
    {
     "data": {
      "text/html": [
       "<div>\n",
       "<style scoped>\n",
       "    .dataframe tbody tr th:only-of-type {\n",
       "        vertical-align: middle;\n",
       "    }\n",
       "\n",
       "    .dataframe tbody tr th {\n",
       "        vertical-align: top;\n",
       "    }\n",
       "\n",
       "    .dataframe thead th {\n",
       "        text-align: right;\n",
       "    }\n",
       "</style>\n",
       "<table border=\"1\" class=\"dataframe\">\n",
       "  <thead>\n",
       "    <tr style=\"text-align: right;\">\n",
       "      <th></th>\n",
       "      <th>Value</th>\n",
       "      <th>cluster</th>\n",
       "    </tr>\n",
       "  </thead>\n",
       "  <tbody>\n",
       "    <tr>\n",
       "      <th>67</th>\n",
       "      <td>58043</td>\n",
       "      <td>7</td>\n",
       "    </tr>\n",
       "  </tbody>\n",
       "</table>\n",
       "</div>"
      ],
      "text/plain": [
       "    Value  cluster\n",
       "67  58043        7"
      ]
     },
     "execution_count": 150,
     "metadata": {},
     "output_type": "execute_result"
    }
   ],
   "source": [
    "clusters = model.labels_\n",
    "data_frame[\"cluster\"] = clusters\n",
    "data_frame[67:68]"
   ]
  },
  {
   "cell_type": "code",
   "execution_count": 157,
   "metadata": {},
   "outputs": [
    {
     "data": {
      "image/png": "[encoded data removed]",
      "text/plain": [
       "<Figure size 1440x72 with 1 Axes>"
      ]
     },
     "metadata": {
      "needs_background": "light"
     },
     "output_type": "display_data"
    }
   ],
   "source": [
    "plt.figure(figsize=(20,1))\n",
    "\n",
    "for i in range(model.n_clusters):\n",
    "    temp_df = data_frame[data_frame.cluster==i]\n",
    "    plt.scatter(temp_df.Value,np.ones(len(temp_df)),label=i)\n",
    "plt.scatter(model.cluster_centers_,np.ones(len(model.cluster_centers_)),\n",
    "            marker=\"|\",s=350,color='black',linewidths=2)\n",
    "\n",
    "# plt.legend()\n",
    "plt.xlabel(\"Perfume Score\",fontsize=15)\n",
    "plt.show()\n"
   ]
  },
  {
   "cell_type": "code",
   "execution_count": 158,
   "metadata": {},
   "outputs": [],
   "source": [
    "# model.cluster_centers_"
   ]
  },
  {
   "cell_type": "markdown",
   "metadata": {},
   "source": [
    "## Actual Clusters"
   ]
  },
  {
   "cell_type": "code",
   "execution_count": 172,
   "metadata": {},
   "outputs": [],
   "source": [
    "df=df.set_index(0).T.reset_index(drop=True)\n",
    "# comment this after executing one time.\n",
    "# the actual data had perfumes as rows and their scores infront of them\n",
    "# the above line takes transpose and rows becomes columns "
   ]
  },
  {
   "cell_type": "code",
   "execution_count": 166,
   "metadata": {
    "scrolled": true
   },
   "outputs": [
    {
     "data": {
      "image/png": "[encoded data removed]",
      "text/plain": [
       "<Figure size 1440x72 with 1 Axes>"
      ]
     },
     "metadata": {
      "needs_background": "light"
     },
     "output_type": "display_data"
    }
   ],
   "source": [
    "features = list(df.columns)\n",
    "# plt.figure(figsize=(20,15))\n",
    "plt.figure(figsize=(20,1))\n",
    "for feature in features:\n",
    "    plt.scatter(x=df[feature],y=np.ones(len(df)),label=feature)\n",
    "# plt.legend()\n",
    "plt.xlabel(\"Perfume Score\",fontsize=15)\n",
    "plt.show()"
   ]
  },
  {
   "cell_type": "code",
   "execution_count": null,
   "metadata": {},
   "outputs": [],
   "source": []
  },
  {
   "cell_type": "markdown",
   "metadata": {},
   "source": [
    "## Elbow Method\n",
    "To go with this, put k = 4 in Kmeans constructor insteasd of 20. I have used 20 clusters because the actual dataset had 20 different perfumes."
   ]
  },
  {
   "cell_type": "code",
   "execution_count": 169,
   "metadata": {},
   "outputs": [],
   "source": [
    "k_values = range(1,30)\n",
    "errors = []\n",
    "for k in k_values:\n",
    "    model = KMeans(n_clusters=k)\n",
    "    model.fit(data_frame)\n",
    "    errors.append(model.inertia_)"
   ]
  },
  {
   "cell_type": "code",
   "execution_count": 170,
   "metadata": {},
   "outputs": [
    {
     "data": {
      "text/plain": [
       "[<matplotlib.lines.Line2D at 0x7f3d44d15a30>]"
      ]
     },
     "execution_count": 170,
     "metadata": {},
     "output_type": "execute_result"
    },
    {
     "data": {
      "image/png": "[encoded data removed]",
      "text/plain": [
       "<Figure size 432x288 with 1 Axes>"
      ]
     },
     "metadata": {
      "needs_background": "light"
     },
     "output_type": "display_data"
    }
   ],
   "source": [
    "plt.plot(k_values,errors)"
   ]
  },
  {
   "cell_type": "code",
   "execution_count": null,
   "metadata": {},
   "outputs": [],
   "source": []
  },
  {
   "cell_type": "markdown",
   "metadata": {},
   "source": []
  }
 ],
 "metadata": {
  "kernelspec": {
   "display_name": "Python 3",
   "language": "python",
   "name": "python3"
  },
  "language_info": {
   "codemirror_mode": {
    "name": "ipython",
    "version": 3
   },
   "file_extension": ".py",
   "mimetype": "text/x-python",
   "name": "python",
   "nbconvert_exporter": "python",
   "pygments_lexer": "ipython3",
   "version": "3.8.5"
  }
 },
 "nbformat": 4,
 "nbformat_minor": 4
}
